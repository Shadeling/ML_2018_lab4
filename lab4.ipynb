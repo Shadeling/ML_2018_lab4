{
 "cells": [
  {
   "cell_type": "code",
   "execution_count": 1,
   "metadata": {},
   "outputs": [],
   "source": [
    "import pandas as pd\n",
    "import numpy as np\n",
    "from scipy import stats\n",
    "from sklearn import model_selection, metrics \n",
    "from sklearn.tree import DecisionTreeClassifier"
   ]
  },
  {
   "cell_type": "code",
   "execution_count": 2,
   "metadata": {},
   "outputs": [],
   "source": [
    "train = pd.read_csv('./datatraining.txt', sep=',')\n",
    "test = pd.read_csv('./datatest2.txt', sep=',')"
   ]
  },
  {
   "cell_type": "code",
   "execution_count": 3,
   "metadata": {},
   "outputs": [
    {
     "data": {
      "text/plain": [
       "Occupancy        1.000000\n",
       "Light            0.907352\n",
       "CO2              0.712235\n",
       "Temperature      0.538220\n",
       "HumidityRatio    0.300282\n",
       "Humidity         0.132964\n",
       "Name: Occupancy, dtype: float64"
      ]
     },
     "execution_count": 3,
     "metadata": {},
     "output_type": "execute_result"
    }
   ],
   "source": [
    "train.corr()['Occupancy'].abs().sort_values(ascending=False)"
   ]
  },
  {
   "cell_type": "code",
   "execution_count": 4,
   "metadata": {},
   "outputs": [],
   "source": [
    "train = train.drop(['date'], axis=1)\n",
    "train = train.drop(['Humidity'], axis=1)\n",
    "test = test.drop(['date'], axis=1)\n",
    "test = test.drop(['Humidity'], axis=1)"
   ]
  },
  {
   "cell_type": "code",
   "execution_count": 5,
   "metadata": {},
   "outputs": [],
   "source": [
    "if train.columns[train.isnull().values.any()].tolist() != []:\n",
    "    print(train.columns[train.isnull().values.any()].tolist())"
   ]
  },
  {
   "cell_type": "code",
   "execution_count": 6,
   "metadata": {},
   "outputs": [],
   "source": [
    "x = train.drop(['Occupancy'], axis=1)\n",
    "y = train['Occupancy']"
   ]
  },
  {
   "cell_type": "code",
   "execution_count": 7,
   "metadata": {},
   "outputs": [],
   "source": [
    "x_train, x_valid, y_train, y_valid = model_selection.train_test_split(x, y, test_size= 0.1)"
   ]
  },
  {
   "cell_type": "code",
   "execution_count": 8,
   "metadata": {},
   "outputs": [
    {
     "data": {
      "text/plain": [
       "0.9950920245398773"
      ]
     },
     "execution_count": 8,
     "metadata": {},
     "output_type": "execute_result"
    }
   ],
   "source": [
    "model = DecisionTreeClassifier()\n",
    "model.fit(x_train, y_train)\n",
    "y_valid_predict = model.predict(x_valid)\n",
    "metrics.accuracy_score(y_valid_predict, y_valid)"
   ]
  },
  {
   "cell_type": "code",
   "execution_count": 9,
   "metadata": {},
   "outputs": [
    {
     "data": {
      "text/plain": [
       "0.9769278096800657"
      ]
     },
     "execution_count": 9,
     "metadata": {},
     "output_type": "execute_result"
    }
   ],
   "source": [
    "y_test_predict = model.predict (test.drop(['Occupancy'], axis=1))\n",
    "yt = test['Occupancy']\n",
    "metrics.accuracy_score(y_test_predict, yt)"
   ]
  },
  {
   "cell_type": "code",
   "execution_count": null,
   "metadata": {},
   "outputs": [],
   "source": [
    "class LogisticRegression:\n",
    "    def sigmoid(self, x):\n",
    "        return 1.0 / (1 + np.exp(-x))\n",
    "    def gradient_descent(self, x, y):\n",
    "        w = np.ones(1, np.shape(x)[1])\n",
    "        for i in range(1000):\n",
    "            w = w - Alpha * x.transpose() * (self.sigmoid(w.transpose() * x) - y)\n",
    "        return w\n",
    "    def classification_result(self, x, w):\n",
    "        probability = self.sigmoid(w.transpose() * x)\n",
    "        if probability >= 0.5: return 1\n",
    "        else return 0"
   ]
  }
 ],
 "metadata": {
  "kernelspec": {
   "display_name": "Python 3",
   "language": "python",
   "name": "python3"
  },
  "language_info": {
   "codemirror_mode": {
    "name": "ipython",
    "version": 3
   },
   "file_extension": ".py",
   "mimetype": "text/x-python",
   "name": "python",
   "nbconvert_exporter": "python",
   "pygments_lexer": "ipython3",
   "version": "3.6.4"
  }
 },
 "nbformat": 4,
 "nbformat_minor": 2
}
